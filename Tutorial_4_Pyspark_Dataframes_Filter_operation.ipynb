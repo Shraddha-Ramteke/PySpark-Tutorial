{
  "nbformat": 4,
  "nbformat_minor": 0,
  "metadata": {
    "colab": {
      "name": "Tutorial 4- Pyspark Dataframes- Filter operation.ipynb",
      "provenance": [],
      "authorship_tag": "ABX9TyNI87MIgGJpDPVm2IQrT/xc",
      "include_colab_link": true
    },
    "kernelspec": {
      "name": "python3",
      "display_name": "Python 3"
    },
    "language_info": {
      "name": "python"
    }
  },
  "cells": [
    {
      "cell_type": "markdown",
      "metadata": {
        "id": "view-in-github",
        "colab_type": "text"
      },
      "source": [
        "<a href=\"https://colab.research.google.com/github/Shraddha-Ramteke/PySpark-Tutorial/blob/main/Tutorial_4_Pyspark_Dataframes_Filter_operation.ipynb\" target=\"_parent\"><img src=\"https://colab.research.google.com/assets/colab-badge.svg\" alt=\"Open In Colab\"/></a>"
      ]
    },
    {
      "cell_type": "markdown",
      "source": [
        "# Pyspark Dataframes\n",
        "- Filter Operation\n",
        "- &,|,==\n",
        "- ~\n"
      ],
      "metadata": {
        "id": "ECuZAowYjCcE"
      }
    },
    {
      "cell_type": "code",
      "execution_count": null,
      "metadata": {
        "id": "lkcldd2Vi2q0"
      },
      "outputs": [],
      "source": [
        "from pyspark.sql import SparkSession\n"
      ]
    },
    {
      "cell_type": "code",
      "source": [
        "spark=SparkSession.builder.appName('dataframe').getOrCreate()\n"
      ],
      "metadata": {
        "id": "W8VPo8SIjJ7H"
      },
      "execution_count": null,
      "outputs": []
    },
    {
      "cell_type": "code",
      "source": [
        "df_pyspark=spark.read.csv('test1.csv',header=True,inferSchema=True)\n",
        "df_pyspark.show()"
      ],
      "metadata": {
        "id": "JQLtEp1wjNLU"
      },
      "execution_count": null,
      "outputs": []
    },
    {
      "cell_type": "markdown",
      "source": [
        "# Filter Operations"
      ],
      "metadata": {
        "id": "craXXj5CjQWa"
      }
    },
    {
      "cell_type": "code",
      "source": [
        "### Salary of the people less than or equal to 20000\n",
        "df_pyspark.filter(\"Salary<=20000\").show()"
      ],
      "metadata": {
        "id": "dzMaRH-rjXM_"
      },
      "execution_count": null,
      "outputs": []
    },
    {
      "cell_type": "code",
      "source": [
        "df_pyspark.filter(\"Salary<=20000\").select(['Name','age']).show()\n"
      ],
      "metadata": {
        "id": "9aNqLFdLjaar"
      },
      "execution_count": null,
      "outputs": []
    },
    {
      "cell_type": "code",
      "source": [
        "df_pyspark.filter(df_pyspark['Salary']<=20000).show()\n"
      ],
      "metadata": {
        "id": "d1KDnsszjcp6"
      },
      "execution_count": null,
      "outputs": []
    },
    {
      "cell_type": "code",
      "source": [
        "df_pyspark.filter((df_pyspark['Salary']<=20000) | \n",
        "                  (df_pyspark['Salary']>=15000)).show()"
      ],
      "metadata": {
        "id": "8aoXgdHGjfAn"
      },
      "execution_count": null,
      "outputs": []
    },
    {
      "cell_type": "code",
      "source": [
        "df_pyspark.filter(~(df_pyspark['Salary']<=20000)).show()\n"
      ],
      "metadata": {
        "id": "eN5EeBYljh_q"
      },
      "execution_count": null,
      "outputs": []
    }
  ]
}